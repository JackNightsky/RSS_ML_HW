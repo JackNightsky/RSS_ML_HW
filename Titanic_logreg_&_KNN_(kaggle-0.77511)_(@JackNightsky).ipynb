{
 "cells": [
  {
   "cell_type": "markdown",
   "metadata": {},
   "source": [
    "# Classification. Linear models and KNN"
   ]
  },
  {
   "cell_type": "code",
   "execution_count": 1,
   "metadata": {},
   "outputs": [],
   "source": [
    "import os\n",
    "import numpy as np\n",
    "import pandas as pd\n",
    "import seaborn as sns\n",
    "import matplotlib.pyplot as plt"
   ]
  },
  {
   "cell_type": "code",
   "execution_count": 159,
   "metadata": {},
   "outputs": [],
   "source": [
    "from sklearn.pipeline import Pipeline\n",
    "from sklearn.compose import ColumnTransformer\n",
    "from sklearn.model_selection import train_test_split, cross_validate\n",
    "from sklearn.metrics import plot_confusion_matrix, accuracy_score, auc\n",
    "from sklearn.linear_model import SGDClassifier\n",
    "from sklearn.preprocessing import StandardScaler, OneHotEncoder, LabelEncoder, OrdinalEncoder"
   ]
  },
  {
   "cell_type": "code",
   "execution_count": 3,
   "metadata": {},
   "outputs": [],
   "source": [
    "#my import\n",
    "from sklearn.linear_model import LogisticRegression\n",
    "from sklearn.pipeline import Pipeline, make_pipeline\n",
    "from sklearn.model_selection import cross_val_score, GridSearchCV\n",
    "from sklearn import set_config\n",
    "set_config(display='diagram')"
   ]
  },
  {
   "cell_type": "markdown",
   "metadata": {},
   "source": [
    "**_Моя функция для создания файла ответов, \n",
    "видимо можно лучше, но пока неохото разбираться. \n",
    "Если знаете более короткую реализацию, можете поделится в отзыве._**"
   ]
  },
  {
   "cell_type": "code",
   "execution_count": 44,
   "metadata": {},
   "outputs": [],
   "source": [
    "def create_csv(estimator, predict, name=\"submit\", cv_train = None, cv_test = None):\n",
    "    import csv\n",
    "    with open(f'D:\\\\{name}.csv', 'w') as f:\n",
    "        fieldnames = ['PassengerId', 'Survived']\n",
    "        writer = csv.DictWriter(f, fieldnames=fieldnames)\n",
    "        writer.writeheader()\n",
    "\n",
    "        for i, elem in enumerate(predict, 892):\n",
    "            f.write(f\"{i},{elem}\\n\")\n",
    "            \n",
    "    print(f\"COMMENT FOR KAGGLE\")\n",
    "    print(\"============\")\n",
    "    print(estimator)\n",
    "    print(features)\n",
    "    print(\"CV on X_train: \", cv_train)\n",
    "    print(\"CV on X_test: \", cv_test)"
   ]
  },
  {
   "cell_type": "markdown",
   "metadata": {},
   "source": [
    "## Part 1: Titanic survival prediction\n",
    "---"
   ]
  },
  {
   "cell_type": "markdown",
   "metadata": {},
   "source": [
    "### Dataset\n",
    "\n",
    "Read the description here: https://www.kaggle.com/c/titanic/data. Download the dataset and place it in the *data/titanic/* folder in your working directory.\n",
    "You will use train.csv for model training and validation. The test set is used for model testing: once the model is trained, you can predict whether a passenger survived or not for each passenger in the test set, and submit the predictions: https://www.kaggle.com/c/titanic/overview/evaluation.  \n"
   ]
  },
  {
   "cell_type": "code",
   "execution_count": 5,
   "metadata": {},
   "outputs": [],
   "source": [
    "PATH = \"./data/\""
   ]
  },
  {
   "cell_type": "code",
   "execution_count": 6,
   "metadata": {},
   "outputs": [],
   "source": [
    "data = pd.read_csv(os.path.join(PATH, 'titanic', 'train.csv')).set_index('PassengerId')\n",
    "test = pd.read_csv(os.path.join(PATH, 'titanic', 'test.csv'))"
   ]
  },
  {
   "cell_type": "code",
   "execution_count": 7,
   "metadata": {},
   "outputs": [
    {
     "data": {
      "text/html": [
       "<div>\n",
       "<style scoped>\n",
       "    .dataframe tbody tr th:only-of-type {\n",
       "        vertical-align: middle;\n",
       "    }\n",
       "\n",
       "    .dataframe tbody tr th {\n",
       "        vertical-align: top;\n",
       "    }\n",
       "\n",
       "    .dataframe thead th {\n",
       "        text-align: right;\n",
       "    }\n",
       "</style>\n",
       "<table border=\"1\" class=\"dataframe\">\n",
       "  <thead>\n",
       "    <tr style=\"text-align: right;\">\n",
       "      <th></th>\n",
       "      <th>Survived</th>\n",
       "      <th>Pclass</th>\n",
       "      <th>Name</th>\n",
       "      <th>Sex</th>\n",
       "      <th>Age</th>\n",
       "      <th>SibSp</th>\n",
       "      <th>Parch</th>\n",
       "      <th>Ticket</th>\n",
       "      <th>Fare</th>\n",
       "      <th>Cabin</th>\n",
       "      <th>Embarked</th>\n",
       "    </tr>\n",
       "    <tr>\n",
       "      <th>PassengerId</th>\n",
       "      <th></th>\n",
       "      <th></th>\n",
       "      <th></th>\n",
       "      <th></th>\n",
       "      <th></th>\n",
       "      <th></th>\n",
       "      <th></th>\n",
       "      <th></th>\n",
       "      <th></th>\n",
       "      <th></th>\n",
       "      <th></th>\n",
       "    </tr>\n",
       "  </thead>\n",
       "  <tbody>\n",
       "    <tr>\n",
       "      <th>1</th>\n",
       "      <td>0</td>\n",
       "      <td>3</td>\n",
       "      <td>Braund, Mr. Owen Harris</td>\n",
       "      <td>male</td>\n",
       "      <td>22.0</td>\n",
       "      <td>1</td>\n",
       "      <td>0</td>\n",
       "      <td>A/5 21171</td>\n",
       "      <td>7.2500</td>\n",
       "      <td>NaN</td>\n",
       "      <td>S</td>\n",
       "    </tr>\n",
       "    <tr>\n",
       "      <th>2</th>\n",
       "      <td>1</td>\n",
       "      <td>1</td>\n",
       "      <td>Cumings, Mrs. John Bradley (Florence Briggs Th...</td>\n",
       "      <td>female</td>\n",
       "      <td>38.0</td>\n",
       "      <td>1</td>\n",
       "      <td>0</td>\n",
       "      <td>PC 17599</td>\n",
       "      <td>71.2833</td>\n",
       "      <td>C85</td>\n",
       "      <td>C</td>\n",
       "    </tr>\n",
       "    <tr>\n",
       "      <th>3</th>\n",
       "      <td>1</td>\n",
       "      <td>3</td>\n",
       "      <td>Heikkinen, Miss. Laina</td>\n",
       "      <td>female</td>\n",
       "      <td>26.0</td>\n",
       "      <td>0</td>\n",
       "      <td>0</td>\n",
       "      <td>STON/O2. 3101282</td>\n",
       "      <td>7.9250</td>\n",
       "      <td>NaN</td>\n",
       "      <td>S</td>\n",
       "    </tr>\n",
       "    <tr>\n",
       "      <th>4</th>\n",
       "      <td>1</td>\n",
       "      <td>1</td>\n",
       "      <td>Futrelle, Mrs. Jacques Heath (Lily May Peel)</td>\n",
       "      <td>female</td>\n",
       "      <td>35.0</td>\n",
       "      <td>1</td>\n",
       "      <td>0</td>\n",
       "      <td>113803</td>\n",
       "      <td>53.1000</td>\n",
       "      <td>C123</td>\n",
       "      <td>S</td>\n",
       "    </tr>\n",
       "    <tr>\n",
       "      <th>5</th>\n",
       "      <td>0</td>\n",
       "      <td>3</td>\n",
       "      <td>Allen, Mr. William Henry</td>\n",
       "      <td>male</td>\n",
       "      <td>35.0</td>\n",
       "      <td>0</td>\n",
       "      <td>0</td>\n",
       "      <td>373450</td>\n",
       "      <td>8.0500</td>\n",
       "      <td>NaN</td>\n",
       "      <td>S</td>\n",
       "    </tr>\n",
       "  </tbody>\n",
       "</table>\n",
       "</div>"
      ],
      "text/plain": [
       "             Survived  Pclass  \\\n",
       "PassengerId                     \n",
       "1                   0       3   \n",
       "2                   1       1   \n",
       "3                   1       3   \n",
       "4                   1       1   \n",
       "5                   0       3   \n",
       "\n",
       "                                                          Name     Sex   Age  \\\n",
       "PassengerId                                                                    \n",
       "1                                      Braund, Mr. Owen Harris    male  22.0   \n",
       "2            Cumings, Mrs. John Bradley (Florence Briggs Th...  female  38.0   \n",
       "3                                       Heikkinen, Miss. Laina  female  26.0   \n",
       "4                 Futrelle, Mrs. Jacques Heath (Lily May Peel)  female  35.0   \n",
       "5                                     Allen, Mr. William Henry    male  35.0   \n",
       "\n",
       "             SibSp  Parch            Ticket     Fare Cabin Embarked  \n",
       "PassengerId                                                          \n",
       "1                1      0         A/5 21171   7.2500   NaN        S  \n",
       "2                1      0          PC 17599  71.2833   C85        C  \n",
       "3                0      0  STON/O2. 3101282   7.9250   NaN        S  \n",
       "4                1      0            113803  53.1000  C123        S  \n",
       "5                0      0            373450   8.0500   NaN        S  "
      ]
     },
     "execution_count": 7,
     "metadata": {},
     "output_type": "execute_result"
    }
   ],
   "source": [
    "data.head()"
   ]
  },
  {
   "cell_type": "markdown",
   "metadata": {},
   "source": [
    "### EDA"
   ]
  },
  {
   "cell_type": "markdown",
   "metadata": {},
   "source": [
    "**(0.5 points)** How many females and males are there in the dataset? What about the survived passengers? Is there any relationship between the gender and the survival?"
   ]
  },
  {
   "cell_type": "code",
   "execution_count": 8,
   "metadata": {},
   "outputs": [
    {
     "data": {
      "text/plain": [
       "male      577\n",
       "female    314\n",
       "Name: Sex, dtype: int64"
      ]
     },
     "execution_count": 8,
     "metadata": {},
     "output_type": "execute_result"
    }
   ],
   "source": [
    "# How many females and males are there in the dataset?\n",
    "# Смотрим сколько мужчин (male) и женщин (female) в датасете.\n",
    "data.Sex.value_counts()"
   ]
  },
  {
   "cell_type": "code",
   "execution_count": 9,
   "metadata": {},
   "outputs": [
    {
     "data": {
      "text/plain": [
       "0    549\n",
       "1    342\n",
       "Name: Survived, dtype: int64"
      ]
     },
     "execution_count": 9,
     "metadata": {},
     "output_type": "execute_result"
    }
   ],
   "source": [
    "# What about the survived (1) passengers?\n",
    "# Смотрим количество погибших (0) и выживших (1) \n",
    "data.Survived.value_counts()"
   ]
  },
  {
   "cell_type": "code",
   "execution_count": 10,
   "metadata": {},
   "outputs": [
    {
     "data": {
      "image/png": "[encoded data removed]",
      "text/plain": [
       "<Figure size 432x288 with 1 Axes>"
      ]
     },
     "metadata": {
      "needs_background": "light"
     },
     "output_type": "display_data"
    }
   ],
   "source": [
    "# Is there any relationship between the gender and the survival? Part 1. \n",
    "# Да есть мужчины с меньшей вероятностью выживают, \n",
    "# даже можно сказать с большей вероятностью погибают.\n",
    "\n",
    "sns.countplot(x=\"Sex\", hue=\"Survived\", data=data);"
   ]
  },
  {
   "cell_type": "code",
   "execution_count": 11,
   "metadata": {},
   "outputs": [
    {
     "data": {
      "image/png": "[encoded data removed]",
      "text/plain": [
       "<Figure size 402.375x360 with 1 Axes>"
      ]
     },
     "metadata": {
      "needs_background": "light"
     },
     "output_type": "display_data"
    }
   ],
   "source": [
    "# Is there any relationship between the gender and the survival? Part 2.\n",
    "# зависимости между полом, выживаемостью и заодно классом каюты пассажира\n",
    "# (очень крутой на мой взгляд катплот, не удержался стырить его из примеров seaborn)\n",
    "sns.catplot(x=\"Sex\", y=\"Survived\", hue=\"Pclass\",  kind=\"point\",  data=data);"
   ]
  },
  {
   "cell_type": "markdown",
   "metadata": {},
   "source": [
    "#### Ещё раз данные и выводы\n",
    "\n",
    "**_How many females and males are there in the dataset?_**\n",
    "- male      577\n",
    "- female    314\n",
    "\n",
    "**_What about the survived passengers?_**\n",
    "- Not Survived    549\n",
    "- Survived     342\n",
    "\n",
    "**_Is there any relationship between the gender and the survival?_**\n",
    "\n",
    "_Да зависимость между полом и выживаемости прослеживается напрямую.\n",
    "Врятли кто-то будет спорить, что по всем данным у женщин шанс выжить выходит куда выше. Связанно это конечно же с несколькими факторами, один из которых это первоочерёдная эвакуация женщин и детей, о чём собсвтенно и написано даже в википедии._\n",
    "\n",
    "[\"A disproportionate number of men were left aboard because of a \"women and children first\" protocol for loading lifeboats\"](https://en.wikipedia.org/wiki/Titanic)"
   ]
  },
  {
   "cell_type": "markdown",
   "metadata": {},
   "source": [
    "**(0.5 points)** Plot age distribution of the passengers. What is the average and the median age of survived and deceased passengers? Do age distributions differ for survived and deceased passengers? Why?"
   ]
  },
  {
   "cell_type": "code",
   "execution_count": 12,
   "metadata": {},
   "outputs": [
    {
     "data": {
      "image/png": "[encoded data removed]",
      "text/plain": [
       "<Figure size 432x288 with 1 Axes>"
      ]
     },
     "metadata": {
      "needs_background": "light"
     },
     "output_type": "display_data"
    }
   ],
   "source": [
    "# Plot age distribution of the passengers. v1\n",
    "# Возраст сам по себе\n",
    "sns.kdeplot(x=\"Age\", \n",
    "            data=data,\n",
    "           );"
   ]
  },
  {
   "cell_type": "code",
   "execution_count": 13,
   "metadata": {
    "scrolled": false
   },
   "outputs": [],
   "source": [
    "# Plot age distribution of the passengers. v2\n",
    "# Я не смог выбрать какой грфик распределения забахать, с линиями выглядит круче, \n",
    "# но на олдскульном лучше видно \"выбросы\" чтоле\n",
    "\n",
    "def old_school_age_distribution():\n",
    "    data.Age.hist(bins=30, legend=True, alpha=0.6)\n",
    "    plt.title('Distribution Of The Passengers')\n",
    "    plt.xlabel('Age')\n",
    "    plt.ylabel(\"Frequency\");\n",
    "    \n",
    "# old_school_age_distribution() # РАСКОМЕНТРУЙ МЕНЯ ЕСЛИ ХОЧЕШЬ ОЛДСКУЛА!"
   ]
  },
  {
   "cell_type": "code",
   "execution_count": 14,
   "metadata": {
    "scrolled": true
   },
   "outputs": [
    {
     "data": {
      "image/png": "[encoded data removed]",
      "text/plain": [
       "<Figure size 432x288 with 1 Axes>"
      ]
     },
     "metadata": {
      "needs_background": "light"
     },
     "output_type": "display_data"
    }
   ],
   "source": [
    "# Строим график зависимости возвраста и выживания\n",
    "\n",
    "sns.kdeplot(x=\"Age\", \n",
    "            hue=\"Survived\", \n",
    "            multiple=\"stack\",\n",
    "            data=data,\n",
    "           );"
   ]
  },
  {
   "cell_type": "code",
   "execution_count": 15,
   "metadata": {},
   "outputs": [],
   "source": [
    "# Всё тот же второй вариант с подробностями чтоле\n",
    "\n",
    "def old_school_age_survived_distribution():\n",
    "    data.groupby('Survived').Age.hist(bins=30, \n",
    "                                  legend=True, \n",
    "                                  alpha=0.6)\n",
    "    plt.title('Age Distributions Differ For Survived And Deceased Passengers')\n",
    "    plt.xlabel('Age')\n",
    "    plt.ylabel(\"Frequency of Survived\");\n",
    "# old_school_age_survived_distribution() # РАСКОМЕНТРУЙ МЕНЯ ЕСЛИ ХОЧЕШЬ ОЛДСКУЛА!"
   ]
  },
  {
   "cell_type": "markdown",
   "metadata": {},
   "source": [
    "### Снова итоги и рассуждения\n",
    "\n",
    "_Распределение почти правильное, т.е. в основном выживали люди молодого возраста от 20 до 40 лет. Есть правда большая группа от 0 до 10 лет, что подтверждает гипотезу о том, что среди выживших много женщин и детей, потому что их спасали в первую очередь._\n"
   ]
  },
  {
   "cell_type": "markdown",
   "metadata": {},
   "source": [
    "**(1 point)** Explore \"passenger class\" and \"embarked\" features. What class was \"the safest\"? Is there any relationship between the embarkation port and the survival? Provide the corresponding visualizations."
   ]
  },
  {
   "cell_type": "code",
   "execution_count": 16,
   "metadata": {},
   "outputs": [
    {
     "data": {
      "image/png": "[encoded data removed]",
      "text/plain": [
       "<Figure size 432x288 with 1 Axes>"
      ]
     },
     "metadata": {
      "needs_background": "light"
     },
     "output_type": "display_data"
    }
   ],
   "source": [
    "## Explore \"passenger class\" and \"embarked\" features. \n",
    "## What class was \"the safest\"?\n",
    "# Очевидно что пассажиры первого класса были в лучшем положении чем пассажиры других классов.\n",
    "# График это подтверждает\n",
    "sns.barplot(x=\"Pclass\", y=\"Survived\", data=data);"
   ]
  },
  {
   "cell_type": "code",
   "execution_count": 17,
   "metadata": {
    "scrolled": true
   },
   "outputs": [
    {
     "data": {
      "image/png": "[encoded data removed]",
      "text/plain": [
       "<Figure size 432x288 with 1 Axes>"
      ]
     },
     "metadata": {
      "needs_background": "light"
     },
     "output_type": "display_data"
    }
   ],
   "source": [
    "# Как видим больше всего выживших севших в порту C = Cherbourg, это второй порт в котором Титаник забирал людей.\n",
    "sns.barplot(x=\"Embarked\", y=\"Survived\", data=data);"
   ]
  },
  {
   "cell_type": "code",
   "execution_count": 18,
   "metadata": {
    "scrolled": true
   },
   "outputs": [
    {
     "data": {
      "image/png": "[encoded data removed]",
      "text/plain": [
       "<Figure size 432x288 with 1 Axes>"
      ]
     },
     "metadata": {
      "needs_background": "light"
     },
     "output_type": "display_data"
    }
   ],
   "source": [
    "# И это при том, что как видим большая часть пассажиров зашла на борт в первом порту S = Southampton \n",
    "sns.countplot(x=\"Embarked\", data=data);"
   ]
  },
  {
   "cell_type": "code",
   "execution_count": 19,
   "metadata": {},
   "outputs": [
    {
     "data": {
      "image/png": "[encoded data removed]",
      "text/plain": [
       "<Figure size 432x288 with 1 Axes>"
      ]
     },
     "metadata": {
      "needs_background": "light"
     },
     "output_type": "display_data"
    }
   ],
   "source": [
    "# Смотрим и видим, что разгадка проста. Т.к. людей в порту S зашло очень много, \n",
    "# то количество выживших из этого порта не так велико в отношении к погибшим, \n",
    "# как в других портах.\n",
    "sns.countplot(x=\"Embarked\", hue=\"Survived\", data=data);"
   ]
  },
  {
   "cell_type": "markdown",
   "metadata": {},
   "source": [
    "#### Итоги\n",
    "\n",
    "В общем класс пассажира таки влияет на вероятность выжить, на мой взгляд это связано с расположением их кают на корабле, палубы с более лучшими каютами находятся сверху, и соответственно быстрее могут эвакуироваться. Что в принципе и было сделано, а для отсутствия паники капитан корабля руководил эвакуацией, людей держали в неведении, говоря об эвакуации как мере предостороженности. https://ru.wikipedia.org/wiki/Крушение_«Титаника»\n",
    "\n",
    "То, в каком порту пасажир сел на судно так же влияет, хоть и не так сильно. Как я писал выше, вероятность выжить от порта  распределилась так из-за сильного расхождения в количестве людей с каждого порта. \n",
    "\n",
    "Я было подумал, что некоторые пассажиры просто сходили с судна в промежуточных портах, но пришлось обломаться, т.к. база включает только тех людей которые находились на корабле в момент столкновения с айсбергом. "
   ]
  },
  {
   "cell_type": "markdown",
   "metadata": {},
   "source": [
    "### Modelling"
   ]
  },
  {
   "cell_type": "markdown",
   "metadata": {},
   "source": [
    "**(0.5 points)** Find the percentage of missing values for each feature. "
   ]
  },
  {
   "cell_type": "code",
   "execution_count": 20,
   "metadata": {},
   "outputs": [
    {
     "name": "stdout",
     "output_type": "stream",
     "text": [
      "col_name      null_cnt    null_perc\n",
      "----------  ----------  -----------\n",
      "Cabin              687    77.1044\n",
      "Age                177    19.8653\n",
      "Embarked             2     0.224467\n",
      "Survived             0     0\n",
      "Pclass               0     0\n",
      "Name                 0     0\n",
      "Sex                  0     0\n",
      "SibSp                0     0\n",
      "Parch                0     0\n",
      "Ticket               0     0\n",
      "Fare                 0     0\n"
     ]
    }
   ],
   "source": [
    "## Пришло время строить модель\n",
    "from tabulate import tabulate\n",
    "\n",
    "\n",
    "# Расчехляем приём из прошлых занятий \n",
    "# для построения крутых таблиц по поиску нулевых значений\n",
    "# оформим это дело в функцию, она нам еще понадобится, наверное.\n",
    "# Почти круто! Косячат три фичи, при чем некоторые довольно сильно! \n",
    "# И да это я про тебя \"Cabin\"!\n",
    "def null_table(data):\n",
    "    top = 15\n",
    "    print(tabulate(\n",
    "        sorted(list(zip(data.columns, data.isnull().sum(), \n",
    "                        data.isnull().sum() / data.shape[0] * 100)), \n",
    "               key=lambda x: -x[2])[:top], \n",
    "        headers=['col_name', 'null_cnt', 'null_perc']))\n",
    "    \n",
    "null_table(data)"
   ]
  },
  {
   "cell_type": "markdown",
   "metadata": {},
   "source": [
    "Think about the ways to handle these missing values for modelling and write your answer below. Which methods would you suggest? What are their advantages and disadvantages?\n",
    "\n",
    "#### Мыслишки\n",
    "\n",
    "Думаю стоит убрать параметр Cabin т.к. слишком велик процент неизвестных значений, будет довольно сложно их восполнить или вычислить. \n",
    "_Дополняя всё это через время, могу сказать что в принципе этот параметр можно таки использовать. Наличие параметра как такового, а не нан, практически кричит нам о том что человек выжил. **(графики в следующей ячейке это подтверждают)** Забавно, но мои модели с этим параметром точнее не стали, хотя на графиках всё красиво. Поэтому не ожидайте что я буду его использовать._ "
   ]
  },
  {
   "cell_type": "code",
   "execution_count": 21,
   "metadata": {
    "scrolled": true
   },
   "outputs": [
    {
     "data": {
      "image/png": "[encoded data removed]",
      "text/plain": [
       "<Figure size 1080x360 with 2 Axes>"
      ]
     },
     "metadata": {
      "needs_background": "light"
     },
     "output_type": "display_data"
    }
   ],
   "source": [
    "fig, axes = plt.subplots(1, 2, figsize=(15, 5), sharey=False)\n",
    "fig.suptitle('Compare with Cabin know or not')\n",
    "\n",
    "sns.countplot(ax=axes[0], x=\"Sex\", hue=\"Survived\", data=data);\n",
    "axes[0].set_title(\"All data\");\n",
    "\n",
    "sns.countplot(ax=axes[1], x=\"Sex\", hue=\"Survived\", data=data.dropna());\n",
    "axes[1].set_title(\"Dropna data\");\n"
   ]
  },
  {
   "cell_type": "markdown",
   "metadata": {},
   "source": [
    "Продолжаем.\n",
    "\n",
    "Для Age можно вычислить среднее, но мне кажется это очень исказит результаты вычислений, поэтому сложно.\n",
    "_В общем-то я был прав, и это было ошибкой. Покажу на радужных графиках, зря я чтоле seaborn тискал?_"
   ]
  },
  {
   "cell_type": "code",
   "execution_count": 22,
   "metadata": {},
   "outputs": [
    {
     "data": {
      "image/png": "[encoded data removed]",
      "text/plain": [
       "<Figure size 1080x360 with 2 Axes>"
      ]
     },
     "metadata": {
      "needs_background": "light"
     },
     "output_type": "display_data"
    }
   ],
   "source": [
    "fig, axes = plt.subplots(1, 2, figsize=(15, 5), sharey=False)\n",
    "fig.suptitle('Compare Age with nan and fillna mean')\n",
    "\n",
    "sns.countplot(ax=axes[0], x=\"Age\", data=data);\n",
    "axes[0].set_title(\"with None\");\n",
    "\n",
    "temp = data.copy()\n",
    "temp.Age = temp.Age.fillna(temp.Age.mean())\n",
    "sns.countplot(ax=axes[1], x=\"Age\", data=temp);\n",
    "axes[1].set_title(\"fillna mean\");"
   ]
  },
  {
   "cell_type": "markdown",
   "metadata": {},
   "source": [
    "Как видим, заполнять возраст средним значением по колонке дико плохая идея.\n",
    "В принципе, возраст можно было бы заполнить на основе данных имени и других фич, например есть ли приставка mrs, и есть ли дети. Впрочем это можно сделать не сразу. В общем возраст оказался самой сложной фичей для заполнения пропусков, и возможно я займусь этим, но уже понедельник =). Вообще возраст походу крутая подзадача здесь, т.к. если по уму, мы можем сделать регрессию предсказывающую возраст для отсутствующей группы, и это будет лучше чем заполнить средними значениями или выкинуть фичу. НО ЭТО НЕ ТОЧНО! x_X\n",
    "\n",
    "\n",
    "Embarked просто выкинуть эти две строки. - \n",
    "_Так я подумал вначале когда только увидел эти 2 НАНа несчастных. Но немношк разобравшись, и подумав решил заполнить их \"S\" - на мой взгляд ничего криминального, да и в принципе это самый популярный порт, так что вероятность угадать высока._"
   ]
  },
  {
   "cell_type": "markdown",
   "metadata": {},
   "source": [
    "**(1.5 points)** Prepare the features and train two models (KNN and Logistic Regression) to predict the survival. Compare the results. Use accuracy as a metric. Don't forget about cross-validation!"
   ]
  },
  {
   "cell_type": "code",
   "execution_count": 23,
   "metadata": {},
   "outputs": [],
   "source": [
    "## Простые преобразования \"в ручную\". \n",
    "# сначала основной датасет\n",
    "data['male'] = data['Sex'].map({'male': 1,'female': 0})\n",
    "data['female'] = data['Sex'].map({'male': 0,'female': 1})\n",
    "data['Cabin_have'] = data['Cabin'].map(lambda x: 1  if type(x) == \"str\" else 0 )\n",
    "data['Cabin_not'] = data['Cabin'].map(lambda x: 1  if type(x) == \"float\" else 0 )"
   ]
  },
  {
   "cell_type": "code",
   "execution_count": 24,
   "metadata": {},
   "outputs": [],
   "source": [
    "#  затем тот на котором делаем предсказание\n",
    "test['male'] = test['Sex'].map({'male': 1,'female': 0})\n",
    "test['female'] = test['Sex'].map({'male': 0,'female': 1})\n",
    "test['Cabin_have'] = test['Cabin'].map(lambda x: 1  if type(x) == \"str\" else 0 )\n",
    "test['Cabin_not'] = test['Cabin'].map(lambda x: 1  if type(x) == \"float\" else 0 )"
   ]
  },
  {
   "cell_type": "code",
   "execution_count": 39,
   "metadata": {},
   "outputs": [
    {
     "name": "stdout",
     "output_type": "stream",
     "text": [
      "<class 'pandas.core.frame.DataFrame'>\n",
      "Int64Index: 891 entries, 1 to 891\n",
      "Data columns (total 15 columns):\n",
      " #   Column      Non-Null Count  Dtype  \n",
      "---  ------      --------------  -----  \n",
      " 0   Survived    891 non-null    int64  \n",
      " 1   Pclass      891 non-null    int64  \n",
      " 2   Name        891 non-null    object \n",
      " 3   Sex         891 non-null    object \n",
      " 4   Age         714 non-null    float64\n",
      " 5   SibSp       891 non-null    int64  \n",
      " 6   Parch       891 non-null    int64  \n",
      " 7   Ticket      891 non-null    object \n",
      " 8   Fare        891 non-null    float64\n",
      " 9   Cabin       204 non-null    object \n",
      " 10  Embarked    889 non-null    object \n",
      " 11  male        891 non-null    int64  \n",
      " 12  female      891 non-null    int64  \n",
      " 13  Cabin_have  891 non-null    int64  \n",
      " 14  Cabin_not   891 non-null    int64  \n",
      "dtypes: float64(2), int64(8), object(5)\n",
      "memory usage: 151.4+ KB\n"
     ]
    }
   ],
   "source": [
    "## Проверяем всё ли ок?\n",
    "data.info()\n",
    "# Видим что в общем ок. Для красоты можно было бы удалить не нужные столбцы,\n",
    "# но я решил пока оставить."
   ]
  },
  {
   "cell_type": "code",
   "execution_count": 45,
   "metadata": {},
   "outputs": [],
   "source": [
    "# В общем изначально я определил все фичи, потом часть\n",
    "# выкинул за скобки и поделил на 2 набора. Как станет известно в будущем, \n",
    "# победил набор с минимальным количеством фич.\n",
    "\n",
    "min_feat = [\"Pclass\", \"male\", \"female\" ] # \"Age\",'Cabin_have', 'Cabin_not'\n",
    "features = [\"Pclass\", \"male\", \"female\", \"SibSp\", \"Fare\"] #\"Age\",\n",
    "\n",
    "# городим сложности для удобного переключения между сетами фич\n",
    "# и чтобы функция создания коммента не ломалась\n",
    "features = min_feat\n",
    "\n",
    "X = data[features]\n",
    "y = data['Survived']\n",
    "\n",
    "X_train,  X_test, y_train, y_test = train_test_split(X, y, test_size=0.3, \n",
    "                                                           random_state=42)"
   ]
  },
  {
   "cell_type": "code",
   "execution_count": 46,
   "metadata": {},
   "outputs": [
    {
     "data": {
      "text/html": [
       "<style>div.sk-top-container {color: black;background-color: white;}div.sk-toggleable {background-color: white;}label.sk-toggleable__label {cursor: pointer;display: block;width: 100%;margin-bottom: 0;padding: 0.2em 0.3em;box-sizing: border-box;text-align: center;}div.sk-toggleable__content {max-height: 0;max-width: 0;overflow: hidden;text-align: left;background-color: #f0f8ff;}div.sk-toggleable__content pre {margin: 0.2em;color: black;border-radius: 0.25em;background-color: #f0f8ff;}input.sk-toggleable__control:checked~div.sk-toggleable__content {max-height: 200px;max-width: 100%;overflow: auto;}div.sk-estimator input.sk-toggleable__control:checked~label.sk-toggleable__label {background-color: #d4ebff;}div.sk-label input.sk-toggleable__control:checked~label.sk-toggleable__label {background-color: #d4ebff;}input.sk-hidden--visually {border: 0;clip: rect(1px 1px 1px 1px);clip: rect(1px, 1px, 1px, 1px);height: 1px;margin: -1px;overflow: hidden;padding: 0;position: absolute;width: 1px;}div.sk-estimator {font-family: monospace;background-color: #f0f8ff;margin: 0.25em 0.25em;border: 1px dotted black;border-radius: 0.25em;box-sizing: border-box;}div.sk-estimator:hover {background-color: #d4ebff;}div.sk-parallel-item::after {content: \"\";width: 100%;border-bottom: 1px solid gray;flex-grow: 1;}div.sk-label:hover label.sk-toggleable__label {background-color: #d4ebff;}div.sk-serial::before {content: \"\";position: absolute;border-left: 1px solid gray;box-sizing: border-box;top: 2em;bottom: 0;left: 50%;}div.sk-serial {display: flex;flex-direction: column;align-items: center;background-color: white;}div.sk-item {z-index: 1;}div.sk-parallel {display: flex;align-items: stretch;justify-content: center;background-color: white;}div.sk-parallel-item {display: flex;flex-direction: column;position: relative;background-color: white;}div.sk-parallel-item:first-child::after {align-self: flex-end;width: 50%;}div.sk-parallel-item:last-child::after {align-self: flex-start;width: 50%;}div.sk-parallel-item:only-child::after {width: 0;}div.sk-dashed-wrapped {border: 1px dashed gray;margin: 0.2em;box-sizing: border-box;padding-bottom: 0.1em;background-color: white;position: relative;}div.sk-label label {font-family: monospace;font-weight: bold;background-color: white;display: inline-block;line-height: 1.2em;}div.sk-label-container {position: relative;z-index: 2;text-align: center;}div.sk-container {display: inline-block;position: relative;}</style><div class=\"sk-top-container\"><div class=\"sk-container\"><div class=\"sk-item sk-dashed-wrapped\"><div class=\"sk-label-container\"><div class=\"sk-label sk-toggleable\"><input class=\"sk-toggleable__control sk-hidden--visually\" id=\"066a69ce-b558-4ec8-863c-363d1ed1991e\" type=\"checkbox\" ><label class=\"sk-toggleable__label\" for=\"066a69ce-b558-4ec8-863c-363d1ed1991e\">Pipeline</label><div class=\"sk-toggleable__content\"><pre>Pipeline(steps=[('reg', LogisticRegression(penalty='l1', solver='liblinear'))])</pre></div></div></div><div class=\"sk-serial\"><div class=\"sk-item\"><div class=\"sk-estimator sk-toggleable\"><input class=\"sk-toggleable__control sk-hidden--visually\" id=\"6e34b9f6-9605-4446-b1ec-fb3e229ac39a\" type=\"checkbox\" ><label class=\"sk-toggleable__label\" for=\"6e34b9f6-9605-4446-b1ec-fb3e229ac39a\">LogisticRegression</label><div class=\"sk-toggleable__content\"><pre>LogisticRegression(penalty='l1', solver='liblinear')</pre></div></div></div></div></div></div></div>"
      ],
      "text/plain": [
       "Pipeline(steps=[('reg', LogisticRegression(penalty='l1', solver='liblinear'))])"
      ]
     },
     "execution_count": 46,
     "metadata": {},
     "output_type": "execute_result"
    }
   ],
   "source": [
    "# С некоторых пор я узнал про Pipline и это прикольная штука, \n",
    "# так что я теперь учусь её использовать.\n",
    "# Просто создаём модель логистической регрессии\n",
    "model = Pipeline([('reg', LogisticRegression(solver='liblinear', penalty='l1'))])\n",
    "\n",
    "# Тренируем её! ||==||   \\\\==\\\\\n",
    "model.fit(X_train, y_train)"
   ]
  },
  {
   "cell_type": "code",
   "execution_count": 47,
   "metadata": {},
   "outputs": [
    {
     "name": "stdout",
     "output_type": "stream",
     "text": [
      "CV on X_train:  0.7849548387096774\n"
     ]
    }
   ],
   "source": [
    "# Делаем предсказание и понимаем, что оно нам в принципе и не надо,\n",
    "# т.к. крутые дата саентисты юзают кросс-валидацию!\n",
    "train_predict = model.predict(X_train)\n",
    "\n",
    "# ЕЕЕ! Она самая, кросс-валидация\n",
    "train_predict_cv = cross_val_score(model, X_train, y_train,\n",
    "                      scoring='accuracy', cv=5).mean()\n",
    "print(\"CV on X_train: \", train_predict_cv)\n",
    "# ЧТож Не так уж и мощно, но вроде как уже целый бал, \n",
    "# если такой скор будет на кагле. "
   ]
  },
  {
   "cell_type": "code",
   "execution_count": 48,
   "metadata": {},
   "outputs": [
    {
     "name": "stdout",
     "output_type": "stream",
     "text": [
      "CV on X_test:  0.791194968553459\n"
     ]
    }
   ],
   "source": [
    "\n",
    "test_predict = model.predict(X_test)\n",
    "\n",
    "test_predict_cv = cross_val_score(model, X_test, y_test,\n",
    "                      scoring='accuracy', cv=5).mean()\n",
    "print(\"CV on X_test: \", test_predict_cv)\n",
    "# Аеее! На тесте даже выше! "
   ]
  },
  {
   "cell_type": "code",
   "execution_count": 49,
   "metadata": {},
   "outputs": [],
   "source": [
    "# Настал момент когда надо научить нашу модельку как надо и отправить на битву!\n",
    "model.fit(X, y)\n",
    "\n",
    "kaggle_test_predict_log =  model.predict(test[features])"
   ]
  },
  {
   "cell_type": "code",
   "execution_count": 51,
   "metadata": {
    "scrolled": true
   },
   "outputs": [
    {
     "name": "stdout",
     "output_type": "stream",
     "text": [
      "COMMENT FOR KAGGLE\n",
      "============\n",
      "LogisticRegression(penalty='l1', solver='liblinear')\n",
      "['Pclass', 'male', 'female']\n",
      "CV on X_train:  0.7849548387096774\n",
      "CV on X_test:  0.791194968553459\n"
     ]
    }
   ],
   "source": [
    "# Используем свою функцию для создания файла ответа\n",
    "create_csv(model[\"reg\"], \n",
    "           kaggle_test_predict_log, \n",
    "           \"LogReg_L1_\",\n",
    "          cv_train = train_predict_cv, \n",
    "          cv_test = test_predict_cv)"
   ]
  },
  {
   "attachments": {},
   "cell_type": "markdown",
   "metadata": {},
   "source": [
    "**Не густо, но нижний порог пробит**\n",
    "![title](https://sun9-53.userapi.com/impf/Y4Jv-LPoQS-vW_hZx58hNHemcOXJkCl9jL_N3Q/roe4a2IFFHk.jpg?size=954x165&quality=96&sign=3cc1d04c344f140730a8619f5f0f25b2&type=album)"
   ]
  },
  {
   "cell_type": "markdown",
   "metadata": {},
   "source": [
    "# KNN "
   ]
  },
  {
   "cell_type": "code",
   "execution_count": 68,
   "metadata": {},
   "outputs": [
    {
     "data": {
      "text/html": [
       "<style>div.sk-top-container {color: black;background-color: white;}div.sk-toggleable {background-color: white;}label.sk-toggleable__label {cursor: pointer;display: block;width: 100%;margin-bottom: 0;padding: 0.2em 0.3em;box-sizing: border-box;text-align: center;}div.sk-toggleable__content {max-height: 0;max-width: 0;overflow: hidden;text-align: left;background-color: #f0f8ff;}div.sk-toggleable__content pre {margin: 0.2em;color: black;border-radius: 0.25em;background-color: #f0f8ff;}input.sk-toggleable__control:checked~div.sk-toggleable__content {max-height: 200px;max-width: 100%;overflow: auto;}div.sk-estimator input.sk-toggleable__control:checked~label.sk-toggleable__label {background-color: #d4ebff;}div.sk-label input.sk-toggleable__control:checked~label.sk-toggleable__label {background-color: #d4ebff;}input.sk-hidden--visually {border: 0;clip: rect(1px 1px 1px 1px);clip: rect(1px, 1px, 1px, 1px);height: 1px;margin: -1px;overflow: hidden;padding: 0;position: absolute;width: 1px;}div.sk-estimator {font-family: monospace;background-color: #f0f8ff;margin: 0.25em 0.25em;border: 1px dotted black;border-radius: 0.25em;box-sizing: border-box;}div.sk-estimator:hover {background-color: #d4ebff;}div.sk-parallel-item::after {content: \"\";width: 100%;border-bottom: 1px solid gray;flex-grow: 1;}div.sk-label:hover label.sk-toggleable__label {background-color: #d4ebff;}div.sk-serial::before {content: \"\";position: absolute;border-left: 1px solid gray;box-sizing: border-box;top: 2em;bottom: 0;left: 50%;}div.sk-serial {display: flex;flex-direction: column;align-items: center;background-color: white;}div.sk-item {z-index: 1;}div.sk-parallel {display: flex;align-items: stretch;justify-content: center;background-color: white;}div.sk-parallel-item {display: flex;flex-direction: column;position: relative;background-color: white;}div.sk-parallel-item:first-child::after {align-self: flex-end;width: 50%;}div.sk-parallel-item:last-child::after {align-self: flex-start;width: 50%;}div.sk-parallel-item:only-child::after {width: 0;}div.sk-dashed-wrapped {border: 1px dashed gray;margin: 0.2em;box-sizing: border-box;padding-bottom: 0.1em;background-color: white;position: relative;}div.sk-label label {font-family: monospace;font-weight: bold;background-color: white;display: inline-block;line-height: 1.2em;}div.sk-label-container {position: relative;z-index: 2;text-align: center;}div.sk-container {display: inline-block;position: relative;}</style><div class=\"sk-top-container\"><div class=\"sk-container\"><div class=\"sk-item\"><div class=\"sk-estimator sk-toggleable\"><input class=\"sk-toggleable__control sk-hidden--visually\" id=\"376ec026-7903-4652-8d04-ece46cb69a75\" type=\"checkbox\" checked><label class=\"sk-toggleable__label\" for=\"376ec026-7903-4652-8d04-ece46cb69a75\">KNeighborsClassifier</label><div class=\"sk-toggleable__content\"><pre>KNeighborsClassifier(n_neighbors=11, weights='distance')</pre></div></div></div></div></div>"
      ],
      "text/plain": [
       "KNeighborsClassifier(n_neighbors=11, weights='distance')"
      ]
     },
     "execution_count": 68,
     "metadata": {},
     "output_type": "execute_result"
    }
   ],
   "source": [
    "# Чтож. Теперь попробуем провернуть тоже самое с knn\n",
    "from sklearn.neighbors import KNeighborsClassifier\n",
    "\n",
    "knn = KNeighborsClassifier(n_neighbors = 11, weights=\"distance\")\n",
    "\n",
    "knn.fit(X_train, y_train)"
   ]
  },
  {
   "cell_type": "code",
   "execution_count": 69,
   "metadata": {},
   "outputs": [
    {
     "name": "stdout",
     "output_type": "stream",
     "text": [
      "CV on X_train:  0.7865548387096775\n"
     ]
    }
   ],
   "source": [
    "# Снова проводим кросс-валидацию\n",
    "train_predict_cv = cross_val_score(knn, X_train, y_train,\n",
    "                      scoring='accuracy', cv=5).mean()\n",
    "\n",
    "print(\"CV on X_train: \", train_predict_cv)"
   ]
  },
  {
   "cell_type": "code",
   "execution_count": 70,
   "metadata": {},
   "outputs": [
    {
     "name": "stdout",
     "output_type": "stream",
     "text": [
      "CV on X_test:  0.7763801537386443\n"
     ]
    }
   ],
   "source": [
    "test_predict_cv = cross_val_score(knn, X_test, y_test,\n",
    "                      scoring='accuracy', cv=5).mean()\n",
    "\n",
    "print(\"CV on X_test: \", test_predict_cv)\n",
    "# Вроде не круто, на тесте бал ниже, но сейчас посмотрим."
   ]
  },
  {
   "cell_type": "code",
   "execution_count": 71,
   "metadata": {},
   "outputs": [
    {
     "name": "stdout",
     "output_type": "stream",
     "text": [
      "COMMENT FOR KAGGLE\n",
      "============\n",
      "KNeighborsClassifier(n_neighbors=11, weights='distance')\n",
      "['Pclass', 'male', 'female']\n",
      "CV on X_train:  0.7865548387096775\n",
      "CV on X_test:  0.7763801537386443\n"
     ]
    }
   ],
   "source": [
    "# Снова по завету треним на молном датасете\n",
    "knn.fit(X, y)\n",
    "\n",
    "kaggle_test_predict_knn = knns.predict(test[features])\n",
    "\n",
    "create_csv(knn, \n",
    "           kaggle_test_predict_knn, \n",
    "           \"KNN_11_distance\",\n",
    "          cv_train = train_predict_cv, \n",
    "          cv_test = test_predict_cv)"
   ]
  },
  {
   "attachments": {},
   "cell_type": "markdown",
   "metadata": {},
   "source": [
    "А ты не так уж и плох KNeighborsClassifier!\n",
    "![title](https://sun9-5.userapi.com/impf/N9Xu8tqpLfNA_RbGijRRnL5lEychmrRbvMd1Fg/JktyeaesiZY.jpg?size=962x223&quality=96&sign=28e51e30acddd2e4b7829108e42bfa4d&type=album)"
   ]
  },
  {
   "cell_type": "markdown",
   "metadata": {},
   "source": [
    "Если в кратце, то потом я провел ещё кучу экспериментов, выстраивая сложные пайплайн конвееры, но максимум что мне удалось выжать на kaggle было 0.77033 \n",
    "\n",
    "Это было больно.\n",
    "\n",
    "По итогу несмотря на практику работы с фичами и прочим, мне не удалось пробить потолок установленный в самом начале. Делитесь своими хаками как это можно было сделать просто и безболезненно) "
   ]
  },
  {
   "cell_type": "markdown",
   "metadata": {},
   "source": [
    "---\n",
    "---\n",
    "**(0.5 + X points)** Try more feature engineering and hyperparameter tuning to improve the results. You may use either KNN or Logistic Regression (or both)."
   ]
  },
  {
   "cell_type": "code",
   "execution_count": 149,
   "metadata": {},
   "outputs": [],
   "source": [
    "data = pd.read_csv(os.path.join(PATH, 'titanic', 'train.csv')).set_index('PassengerId')\n",
    "test = pd.read_csv(os.path.join(PATH, 'titanic', 'test.csv'))"
   ]
  },
  {
   "cell_type": "code",
   "execution_count": 150,
   "metadata": {
    "scrolled": true
   },
   "outputs": [
    {
     "data": {
      "text/html": [
       "<div>\n",
       "<style scoped>\n",
       "    .dataframe tbody tr th:only-of-type {\n",
       "        vertical-align: middle;\n",
       "    }\n",
       "\n",
       "    .dataframe tbody tr th {\n",
       "        vertical-align: top;\n",
       "    }\n",
       "\n",
       "    .dataframe thead th {\n",
       "        text-align: right;\n",
       "    }\n",
       "</style>\n",
       "<table border=\"1\" class=\"dataframe\">\n",
       "  <thead>\n",
       "    <tr style=\"text-align: right;\">\n",
       "      <th></th>\n",
       "      <th>Survived</th>\n",
       "      <th>Pclass</th>\n",
       "      <th>Name</th>\n",
       "      <th>Sex</th>\n",
       "      <th>Age</th>\n",
       "      <th>SibSp</th>\n",
       "      <th>Parch</th>\n",
       "      <th>Ticket</th>\n",
       "      <th>Fare</th>\n",
       "      <th>Cabin</th>\n",
       "      <th>Embarked</th>\n",
       "    </tr>\n",
       "    <tr>\n",
       "      <th>PassengerId</th>\n",
       "      <th></th>\n",
       "      <th></th>\n",
       "      <th></th>\n",
       "      <th></th>\n",
       "      <th></th>\n",
       "      <th></th>\n",
       "      <th></th>\n",
       "      <th></th>\n",
       "      <th></th>\n",
       "      <th></th>\n",
       "      <th></th>\n",
       "    </tr>\n",
       "  </thead>\n",
       "  <tbody>\n",
       "    <tr>\n",
       "      <th>1</th>\n",
       "      <td>0</td>\n",
       "      <td>3</td>\n",
       "      <td>Braund, Mr. Owen Harris</td>\n",
       "      <td>male</td>\n",
       "      <td>22.0</td>\n",
       "      <td>1</td>\n",
       "      <td>0</td>\n",
       "      <td>A/5 21171</td>\n",
       "      <td>7.2500</td>\n",
       "      <td>NaN</td>\n",
       "      <td>S</td>\n",
       "    </tr>\n",
       "    <tr>\n",
       "      <th>2</th>\n",
       "      <td>1</td>\n",
       "      <td>1</td>\n",
       "      <td>Cumings, Mrs. John Bradley (Florence Briggs Th...</td>\n",
       "      <td>female</td>\n",
       "      <td>38.0</td>\n",
       "      <td>1</td>\n",
       "      <td>0</td>\n",
       "      <td>PC 17599</td>\n",
       "      <td>71.2833</td>\n",
       "      <td>C85</td>\n",
       "      <td>C</td>\n",
       "    </tr>\n",
       "    <tr>\n",
       "      <th>3</th>\n",
       "      <td>1</td>\n",
       "      <td>3</td>\n",
       "      <td>Heikkinen, Miss. Laina</td>\n",
       "      <td>female</td>\n",
       "      <td>26.0</td>\n",
       "      <td>0</td>\n",
       "      <td>0</td>\n",
       "      <td>STON/O2. 3101282</td>\n",
       "      <td>7.9250</td>\n",
       "      <td>NaN</td>\n",
       "      <td>S</td>\n",
       "    </tr>\n",
       "    <tr>\n",
       "      <th>4</th>\n",
       "      <td>1</td>\n",
       "      <td>1</td>\n",
       "      <td>Futrelle, Mrs. Jacques Heath (Lily May Peel)</td>\n",
       "      <td>female</td>\n",
       "      <td>35.0</td>\n",
       "      <td>1</td>\n",
       "      <td>0</td>\n",
       "      <td>113803</td>\n",
       "      <td>53.1000</td>\n",
       "      <td>C123</td>\n",
       "      <td>S</td>\n",
       "    </tr>\n",
       "    <tr>\n",
       "      <th>5</th>\n",
       "      <td>0</td>\n",
       "      <td>3</td>\n",
       "      <td>Allen, Mr. William Henry</td>\n",
       "      <td>male</td>\n",
       "      <td>35.0</td>\n",
       "      <td>0</td>\n",
       "      <td>0</td>\n",
       "      <td>373450</td>\n",
       "      <td>8.0500</td>\n",
       "      <td>NaN</td>\n",
       "      <td>S</td>\n",
       "    </tr>\n",
       "  </tbody>\n",
       "</table>\n",
       "</div>"
      ],
      "text/plain": [
       "             Survived  Pclass  \\\n",
       "PassengerId                     \n",
       "1                   0       3   \n",
       "2                   1       1   \n",
       "3                   1       3   \n",
       "4                   1       1   \n",
       "5                   0       3   \n",
       "\n",
       "                                                          Name     Sex   Age  \\\n",
       "PassengerId                                                                    \n",
       "1                                      Braund, Mr. Owen Harris    male  22.0   \n",
       "2            Cumings, Mrs. John Bradley (Florence Briggs Th...  female  38.0   \n",
       "3                                       Heikkinen, Miss. Laina  female  26.0   \n",
       "4                 Futrelle, Mrs. Jacques Heath (Lily May Peel)  female  35.0   \n",
       "5                                     Allen, Mr. William Henry    male  35.0   \n",
       "\n",
       "             SibSp  Parch            Ticket     Fare Cabin Embarked  \n",
       "PassengerId                                                          \n",
       "1                1      0         A/5 21171   7.2500   NaN        S  \n",
       "2                1      0          PC 17599  71.2833   C85        C  \n",
       "3                0      0  STON/O2. 3101282   7.9250   NaN        S  \n",
       "4                1      0            113803  53.1000  C123        S  \n",
       "5                0      0            373450   8.0500   NaN        S  "
      ]
     },
     "execution_count": 150,
     "metadata": {},
     "output_type": "execute_result"
    }
   ],
   "source": [
    "data.head()"
   ]
  },
  {
   "cell_type": "markdown",
   "metadata": {},
   "source": [
    "## Feature Engineering"
   ]
  },
  {
   "cell_type": "code",
   "execution_count": 162,
   "metadata": {
    "scrolled": true
   },
   "outputs": [
    {
     "name": "stdout",
     "output_type": "stream",
     "text": [
      "col_name      null_cnt    null_perc\n",
      "----------  ----------  -----------\n",
      "Age                177      19.8653\n",
      "Survived             0       0\n",
      "Pclass               0       0\n",
      "Name                 0       0\n",
      "SibSp                0       0\n",
      "Parch                0       0\n",
      "Ticket               0       0\n",
      "Fare                 0       0\n",
      "Embarked             0       0\n",
      "Male                 0       0\n",
      "Female               0       0\n",
      "Cabin_bool           0       0\n"
     ]
    }
   ],
   "source": [
    "# Чтож, 4:50 утра понедельника, самое время показать что есть ещё силы!\n",
    "\n",
    "# Т.к. я пока вообще не шарю как это делать корректно и правильно, буду делать всё в ручную, \n",
    "# а когда надоест буду пробовать автоматизировать хоть как. (Да видал уже тру способы, но пока ещё вникаю)\n",
    "\n",
    "#Делаю через костыли. \n",
    "# Т.к надоедают ошибки выскакивающие при перезапуске ячейки, \n",
    "# а постоянно ядро перезапускать - долго.\n",
    "if \"Sex\" in data.columns:\n",
    "    # разбиваем фичу Sex на две фичи Male и Female, мне кажется так будет трушней работать.\n",
    "    data['Male'] = data['Sex'].map({'male': 1,'female': 0})\n",
    "    data['Female'] = data['Sex'].map({'male': 0,'female': 1})\n",
    "    # Удаляем Sex чтоб не мешался.\n",
    "    data = data.drop([\"Sex\"], axis=1)\n",
    "\n",
    "if \"Cabin\" in data.columns:\n",
    "    # тут же по такому же типу разбиваем пассажиров на тех у кого известно купе и неизвестно.\n",
    "    data['Cabin_bool'] = data['Cabin'].map(lambda x: 0 if type(x) == float else 1 )\n",
    "\n",
    "    # Удаляем Cabin чтоб не мазолил глаза.\n",
    "    data = data.drop([\"Cabin\"], axis=1)\n",
    "\n",
    "# Теперь заполняем пропуски в Embarked\n",
    "data[\"Embarked\"] = data[\"Embarked\"].fillna(\"S\")\n",
    "# т.к тут много значений, аж 3. вручную уже лень.\n",
    "LabEnc = LabelEncoder()\n",
    "data[\"Embarked\"] = LabEnc.fit_transform(data[\"Embarked\"].values)\n",
    "\n",
    "# По описанным причинам ранее с Age ничего делать тут не буду. \n",
    "\n",
    "# Вот и функция понадобилась снова. Вроде ничего картинка. Надеюсь всё не зря.\n",
    "# Правда всё это придётся потом делать для теста (o_O). \n",
    "# Мб оберну всё в функцию и будет норм. \n",
    "# (Оборачивал, норм не стало.)\n",
    "null_table(data)"
   ]
  },
  {
   "cell_type": "markdown",
   "metadata": {},
   "source": [
    "---\n",
    "Далее шайтаним над тестовыми данными для предсказания кагла. Меняем все слова data на test, я не буду это делать вручную, так что можно не переживать за меня)"
   ]
  },
  {
   "cell_type": "code",
   "execution_count": 163,
   "metadata": {},
   "outputs": [],
   "source": [
    "# С данными для кагла, т.е. test надо сделать всё тоже самое.\n",
    "if \"Sex\" in test.columns:\n",
    "    # разбиваем фичу Sex на две фичи Male и Female, мне кажется так будет трушней работать.\n",
    "    test['Male'] = test['Sex'].map({'male': 1,'female': 0})\n",
    "    test['Female'] = test['Sex'].map({'male': 0,'female': 1})\n",
    "    # Удаляем Sex чтоб не мешался.\n",
    "    test = test.drop([\"Sex\"], axis=1)\n",
    "\n",
    "if \"Cabin\" in test.columns:\n",
    "    # тут же по такому же типу разбиваем пассажиров на тех у кого известно купе и неизвестно.\n",
    "    test['Cabin_bool'] = test['Cabin'].map(lambda x: int(bool(x) ))\n",
    "    # Удаляем Cabin чтоб не мазолил глаза.\n",
    "    test = test.drop([\"Cabin\"], axis=1)\n",
    "\n",
    "# Теперь заполняем пропуски в Embarked\n",
    "test[\"Embarked\"] = test[\"Embarked\"].fillna(\"S\")\n",
    "# т.к тут много значений, аж 3. вручную уже лень.\n",
    "LabEnc = LabelEncoder()\n",
    "test[\"Embarked\"] = LabEnc.fit_transform(test[\"Embarked\"].values)\n",
    "\n",
    "# Чёрт меня дёрнул Fare заполнять средними значениями чтобы избавиться от nan\n",
    "test[\"Fare\"] = test[\"Fare\"].fillna(test[\"Fare\"].mean())\n",
    "# надо бы его скалировать видимо. Чтож, подождёт."
   ]
  },
  {
   "cell_type": "markdown",
   "metadata": {},
   "source": [
    "Вообще из-за того что не было проблем с нанами обделил вниманием пару фич.\n",
    "\n",
    "| feat    | describe                                  |\n",
    "   ---    |        :---:\n",
    "| sibsp   |\t# of siblings / spouses aboard the Titanic|\n",
    "| parch   |\t# of parents / children aboard the Titanic|\n",
    "| fare    |\tPassenger fare                            |\n",
    "\n",
    "а они ведь интересные. И даже должны сильно влиять на вероятность выжить. Т.к. спасая кого-то помимо себя, выжить тяжелее. Жаль что мощь модели от них никак не выросла. Видимо я просто пока не умею их готовить."
   ]
  },
  {
   "cell_type": "code",
   "execution_count": 164,
   "metadata": {},
   "outputs": [],
   "source": [
    "# Разбиваем фичи на подгруппы категориальные и числовые, \n",
    "# и даже те которые вероятно использовать не будем\n",
    "\n",
    "not_use = ['Name', 'Ticket',]\n",
    "\n",
    "cat_features = ['Pclass', 'Embarked', 'Male', 'Female', \"Cabin_bool\"]\n",
    "num_features = [ 'SibSp', 'Parch', 'Fare'] # 'Age', я решил выкинуть по понятным причинам\n",
    "\n",
    "\n",
    "# Создаём суперсписок фич для функции создания файла ответов.\n",
    "features = cat_features + num_features\n",
    "\n",
    "X = data[features]\n",
    "y = data['Survived']\n",
    "\n",
    "# Разбиваем на выборки, это понятно уже. урааа!)\n",
    "X_train,  X_test, y_train, y_test = train_test_split(X, y, test_size=0.3, random_state=42)"
   ]
  },
  {
   "cell_type": "code",
   "execution_count": 165,
   "metadata": {},
   "outputs": [
    {
     "data": {
      "image/png": "[encoded data removed]",
      "text/plain": [
       "<Figure size 432x288 with 2 Axes>"
      ]
     },
     "metadata": {
      "needs_background": "light"
     },
     "output_type": "display_data"
    }
   ],
   "source": [
    "# Фич много, явно корелируют между собой\n",
    "# Поэтому надо смотреть на кореляцию фич.\n",
    "\n",
    "from seaborn import heatmap\n",
    "\n",
    "heatmap(data[features].corr(), center=0, square=True)\n",
    "plt.show()\n",
    "# ИСКУССТВО!"
   ]
  },
  {
   "cell_type": "code",
   "execution_count": 183,
   "metadata": {},
   "outputs": [],
   "source": [
    "# Больше пайплайнов богу пайплайнов\n",
    "# идея взята из стать https://mahmoudyusof.github.io/general/scikit-learn-pipelines/\n",
    "#  её ещё во время прошлой домашки кидал в материалы в дискорд\n",
    "\n",
    "\n",
    "# Создаём обработчики фич, что не добил руками, то сделают эти ребята\n",
    "categorical_pipeline = Pipeline([\n",
    "    (\"encoder\", OneHotEncoder(sparse=True, handle_unknown=\"ignore\"))\n",
    "])\n",
    "\n",
    "numerical_pipeline = Pipeline([\n",
    "    (\"scaler\", StandardScaler())\n",
    "])\n",
    "\n",
    "\n",
    "# Создаю мегатрона, который будет применять обработчики фич выше \n",
    "# для обпеределённых фич\n",
    "preprocessing_pipeline = ColumnTransformer([\n",
    "    (\"ordinal_preprocessor\", categorical_pipeline, cat_features),\n",
    "    (\"numerical_preprocessor\", numerical_pipeline, num_features)\n",
    "])\n"
   ]
  },
  {
   "cell_type": "markdown",
   "metadata": {},
   "source": [
    "## LogisticRegression"
   ]
  },
  {
   "cell_type": "code",
   "execution_count": 172,
   "metadata": {},
   "outputs": [],
   "source": [
    "\n",
    "\n",
    "# По итогу получаем \"мощную\".. кхе-кхе... МОДЕЛЬ логрега.\n",
    "logreg_model = Pipeline([\n",
    "    (\"preprocessor\", preprocessing_pipeline),\n",
    "    (\"estimator\", LogisticRegression(solver='liblinear', penalty='l2'))\n",
    "])"
   ]
  },
  {
   "cell_type": "markdown",
   "metadata": {},
   "source": [
    "Ну что, дальше по старинке, обучаем тестим и т.д."
   ]
  },
  {
   "cell_type": "code",
   "execution_count": 173,
   "metadata": {},
   "outputs": [
    {
     "data": {
      "text/html": [
       "<style>div.sk-top-container {color: black;background-color: white;}div.sk-toggleable {background-color: white;}label.sk-toggleable__label {cursor: pointer;display: block;width: 100%;margin-bottom: 0;padding: 0.2em 0.3em;box-sizing: border-box;text-align: center;}div.sk-toggleable__content {max-height: 0;max-width: 0;overflow: hidden;text-align: left;background-color: #f0f8ff;}div.sk-toggleable__content pre {margin: 0.2em;color: black;border-radius: 0.25em;background-color: #f0f8ff;}input.sk-toggleable__control:checked~div.sk-toggleable__content {max-height: 200px;max-width: 100%;overflow: auto;}div.sk-estimator input.sk-toggleable__control:checked~label.sk-toggleable__label {background-color: #d4ebff;}div.sk-label input.sk-toggleable__control:checked~label.sk-toggleable__label {background-color: #d4ebff;}input.sk-hidden--visually {border: 0;clip: rect(1px 1px 1px 1px);clip: rect(1px, 1px, 1px, 1px);height: 1px;margin: -1px;overflow: hidden;padding: 0;position: absolute;width: 1px;}div.sk-estimator {font-family: monospace;background-color: #f0f8ff;margin: 0.25em 0.25em;border: 1px dotted black;border-radius: 0.25em;box-sizing: border-box;}div.sk-estimator:hover {background-color: #d4ebff;}div.sk-parallel-item::after {content: \"\";width: 100%;border-bottom: 1px solid gray;flex-grow: 1;}div.sk-label:hover label.sk-toggleable__label {background-color: #d4ebff;}div.sk-serial::before {content: \"\";position: absolute;border-left: 1px solid gray;box-sizing: border-box;top: 2em;bottom: 0;left: 50%;}div.sk-serial {display: flex;flex-direction: column;align-items: center;background-color: white;}div.sk-item {z-index: 1;}div.sk-parallel {display: flex;align-items: stretch;justify-content: center;background-color: white;}div.sk-parallel-item {display: flex;flex-direction: column;position: relative;background-color: white;}div.sk-parallel-item:first-child::after {align-self: flex-end;width: 50%;}div.sk-parallel-item:last-child::after {align-self: flex-start;width: 50%;}div.sk-parallel-item:only-child::after {width: 0;}div.sk-dashed-wrapped {border: 1px dashed gray;margin: 0.2em;box-sizing: border-box;padding-bottom: 0.1em;background-color: white;position: relative;}div.sk-label label {font-family: monospace;font-weight: bold;background-color: white;display: inline-block;line-height: 1.2em;}div.sk-label-container {position: relative;z-index: 2;text-align: center;}div.sk-container {display: inline-block;position: relative;}</style><div class=\"sk-top-container\"><div class=\"sk-container\"><div class=\"sk-item sk-dashed-wrapped\"><div class=\"sk-label-container\"><div class=\"sk-label sk-toggleable\"><input class=\"sk-toggleable__control sk-hidden--visually\" id=\"9dfe3444-4c1a-4974-a8ae-90293501e568\" type=\"checkbox\" ><label class=\"sk-toggleable__label\" for=\"9dfe3444-4c1a-4974-a8ae-90293501e568\">Pipeline</label><div class=\"sk-toggleable__content\"><pre>Pipeline(steps=[('preprocessor',\n",
       "                 ColumnTransformer(transformers=[('ordinal_preprocessor',\n",
       "                                                  Pipeline(steps=[('encoder',\n",
       "                                                                   OneHotEncoder(handle_unknown='ignore'))]),\n",
       "                                                  ['Pclass', 'Embarked', 'Male',\n",
       "                                                   'Female', 'Cabin_bool']),\n",
       "                                                 ('numerical_preprocessor',\n",
       "                                                  Pipeline(steps=[('scaler',\n",
       "                                                                   StandardScaler())]),\n",
       "                                                  ['SibSp', 'Parch',\n",
       "                                                   'Fare'])])),\n",
       "                ('estimator', LogisticRegression(solver='liblinear'))])</pre></div></div></div><div class=\"sk-serial\"><div class=\"sk-item sk-dashed-wrapped\"><div class=\"sk-label-container\"><div class=\"sk-label sk-toggleable\"><input class=\"sk-toggleable__control sk-hidden--visually\" id=\"b5e7826e-497b-46f4-98dd-09d1a56cd4d7\" type=\"checkbox\" ><label class=\"sk-toggleable__label\" for=\"b5e7826e-497b-46f4-98dd-09d1a56cd4d7\">preprocessor: ColumnTransformer</label><div class=\"sk-toggleable__content\"><pre>ColumnTransformer(transformers=[('ordinal_preprocessor',\n",
       "                                 Pipeline(steps=[('encoder',\n",
       "                                                  OneHotEncoder(handle_unknown='ignore'))]),\n",
       "                                 ['Pclass', 'Embarked', 'Male', 'Female',\n",
       "                                  'Cabin_bool']),\n",
       "                                ('numerical_preprocessor',\n",
       "                                 Pipeline(steps=[('scaler', StandardScaler())]),\n",
       "                                 ['SibSp', 'Parch', 'Fare'])])</pre></div></div></div><div class=\"sk-parallel\"><div class=\"sk-parallel-item\"><div class=\"sk-item\"><div class=\"sk-label-container\"><div class=\"sk-label sk-toggleable\"><input class=\"sk-toggleable__control sk-hidden--visually\" id=\"a6da12e3-5a79-4567-abce-fb124e7c10f4\" type=\"checkbox\" ><label class=\"sk-toggleable__label\" for=\"a6da12e3-5a79-4567-abce-fb124e7c10f4\">ordinal_preprocessor</label><div class=\"sk-toggleable__content\"><pre>['Pclass', 'Embarked', 'Male', 'Female', 'Cabin_bool']</pre></div></div></div><div class=\"sk-serial\"><div class=\"sk-item\"><div class=\"sk-serial\"><div class=\"sk-item\"><div class=\"sk-estimator sk-toggleable\"><input class=\"sk-toggleable__control sk-hidden--visually\" id=\"fc1b4ce6-bab2-4c4b-b0db-e3cf4a7c1e19\" type=\"checkbox\" ><label class=\"sk-toggleable__label\" for=\"fc1b4ce6-bab2-4c4b-b0db-e3cf4a7c1e19\">OneHotEncoder</label><div class=\"sk-toggleable__content\"><pre>OneHotEncoder(handle_unknown='ignore')</pre></div></div></div></div></div></div></div></div><div class=\"sk-parallel-item\"><div class=\"sk-item\"><div class=\"sk-label-container\"><div class=\"sk-label sk-toggleable\"><input class=\"sk-toggleable__control sk-hidden--visually\" id=\"63b3919d-12ce-4e9d-995b-e675411863eb\" type=\"checkbox\" ><label class=\"sk-toggleable__label\" for=\"63b3919d-12ce-4e9d-995b-e675411863eb\">numerical_preprocessor</label><div class=\"sk-toggleable__content\"><pre>['SibSp', 'Parch', 'Fare']</pre></div></div></div><div class=\"sk-serial\"><div class=\"sk-item\"><div class=\"sk-serial\"><div class=\"sk-item\"><div class=\"sk-estimator sk-toggleable\"><input class=\"sk-toggleable__control sk-hidden--visually\" id=\"dc745541-6510-448c-a91f-01b9364a6a3c\" type=\"checkbox\" ><label class=\"sk-toggleable__label\" for=\"dc745541-6510-448c-a91f-01b9364a6a3c\">StandardScaler</label><div class=\"sk-toggleable__content\"><pre>StandardScaler()</pre></div></div></div></div></div></div></div></div></div></div><div class=\"sk-item\"><div class=\"sk-estimator sk-toggleable\"><input class=\"sk-toggleable__control sk-hidden--visually\" id=\"b8d277fc-3425-469a-8d96-ddb94929d72d\" type=\"checkbox\" ><label class=\"sk-toggleable__label\" for=\"b8d277fc-3425-469a-8d96-ddb94929d72d\">LogisticRegression</label><div class=\"sk-toggleable__content\"><pre>LogisticRegression(solver='liblinear')</pre></div></div></div></div></div></div></div>"
      ],
      "text/plain": [
       "Pipeline(steps=[('preprocessor',\n",
       "                 ColumnTransformer(transformers=[('ordinal_preprocessor',\n",
       "                                                  Pipeline(steps=[('encoder',\n",
       "                                                                   OneHotEncoder(handle_unknown='ignore'))]),\n",
       "                                                  ['Pclass', 'Embarked', 'Male',\n",
       "                                                   'Female', 'Cabin_bool']),\n",
       "                                                 ('numerical_preprocessor',\n",
       "                                                  Pipeline(steps=[('scaler',\n",
       "                                                                   StandardScaler())]),\n",
       "                                                  ['SibSp', 'Parch',\n",
       "                                                   'Fare'])])),\n",
       "                ('estimator', LogisticRegression(solver='liblinear'))])"
      ]
     },
     "execution_count": 173,
     "metadata": {},
     "output_type": "execute_result"
    }
   ],
   "source": [
    "logreg_model.fit(X_train, y_train)\n",
    "# Получаем красивую схему, можно потискать!"
   ]
  },
  {
   "cell_type": "code",
   "execution_count": 174,
   "metadata": {},
   "outputs": [
    {
     "name": "stdout",
     "output_type": "stream",
     "text": [
      "CV on X_train:  0.8105935483870969\n"
     ]
    }
   ],
   "source": [
    "# кросс-валидируем train\n",
    "logreg_train_cv = cross_val_score(logreg_model, X_train, y_train,\n",
    "                      scoring='accuracy', cv=5).mean()\n",
    "print(\"CV on X_train: \", logreg_train_cv)\n",
    "# Ах, этот скор, да на kaggle"
   ]
  },
  {
   "cell_type": "code",
   "execution_count": 191,
   "metadata": {},
   "outputs": [
    {
     "name": "stdout",
     "output_type": "stream",
     "text": [
      "CV on X_test:  0.8025856044723969\n"
     ]
    }
   ],
   "source": [
    "# кросс-валидируем test\n",
    "logreg_test_cv = cross_val_score(logreg_model, X_test, y_test,\n",
    "                      scoring='accuracy', cv=5).mean()\n",
    "print(\"CV on X_test: \", logreg_test_cv)\n",
    "# Ах, тут всё грустнее и больше похоже на правду, \n",
    "# видимо где-то overfitting"
   ]
  },
  {
   "cell_type": "code",
   "execution_count": 176,
   "metadata": {},
   "outputs": [],
   "source": [
    "# Чтож, мне аж захотелось снова отправить файл на кагл! и это в 5:30 утра\n",
    "logreg_model.fit(X, y)\n",
    "\n",
    "kaggle_logreg_pred =  logreg_model.predict(test[features])"
   ]
  },
  {
   "cell_type": "code",
   "execution_count": 181,
   "metadata": {
    "scrolled": true
   },
   "outputs": [
    {
     "name": "stdout",
     "output_type": "stream",
     "text": [
      "COMMENT FOR KAGGLE\n",
      "============\n",
      "LogisticRegression(solver='liblinear')\n",
      "['Pclass', 'Embarked', 'Male', 'Female', 'Cabin_bool', 'SibSp', 'Parch', 'Fare']\n",
      "CV on X_train:  0.8105935483870969\n",
      "CV on X_test:  0.8025856044723969\n"
     ]
    }
   ],
   "source": [
    "# Используем свою функцию для создания файла ответа\n",
    "create_csv(logreg_model[\"estimator\"], \n",
    "           kaggle_test_predict_log, \n",
    "           \"LogReg_L2_MAXTUNE\",\n",
    "          cv_train = logreg_train_cv, \n",
    "          cv_test = logreg_test_cv)"
   ]
  },
  {
   "attachments": {},
   "cell_type": "markdown",
   "metadata": {},
   "source": [
    "Один вопрос: **ЗА ЧТООО????**\n",
    "Возможно если поперебирать фичи можно будет улучшить результат, но надо заканчивать этот ноутбук и лить на гитхаб. Но пожалуй я попробую еще в KNN на максималках\n",
    "![title](https://sun9-46.userapi.com/impf/PndJ-c-qhXnpPZ2oGoU_gBQikE2hO56hmaveEA/rKt5GT41-a0.jpg?size=962x230&quality=96&sign=cd226e3fb5ab315be27b961a2a6bb233&type=album)"
   ]
  },
  {
   "cell_type": "markdown",
   "metadata": {},
   "source": [
    "---\n",
    "---\n"
   ]
  },
  {
   "cell_type": "markdown",
   "metadata": {},
   "source": [
    "## KNN"
   ]
  },
  {
   "cell_type": "markdown",
   "metadata": {},
   "source": [
    "Вся обработка фич и препроцессинг есть выше, поэтому нам остаётся только создать модельку, обучить и отправить результаты на кагл. Чтож, удачи мне!"
   ]
  },
  {
   "cell_type": "code",
   "execution_count": 220,
   "metadata": {},
   "outputs": [],
   "source": [
    "knn_model = Pipeline([\n",
    "    (\"preprocessor\", preprocessing_pipeline),\n",
    "    (\"estimator\", KNeighborsClassifier(n_neighbors = 11,  weights='distance'))\n",
    "])\n"
   ]
  },
  {
   "cell_type": "code",
   "execution_count": 221,
   "metadata": {},
   "outputs": [
    {
     "data": {
      "text/html": [
       "<style>div.sk-top-container {color: black;background-color: white;}div.sk-toggleable {background-color: white;}label.sk-toggleable__label {cursor: pointer;display: block;width: 100%;margin-bottom: 0;padding: 0.2em 0.3em;box-sizing: border-box;text-align: center;}div.sk-toggleable__content {max-height: 0;max-width: 0;overflow: hidden;text-align: left;background-color: #f0f8ff;}div.sk-toggleable__content pre {margin: 0.2em;color: black;border-radius: 0.25em;background-color: #f0f8ff;}input.sk-toggleable__control:checked~div.sk-toggleable__content {max-height: 200px;max-width: 100%;overflow: auto;}div.sk-estimator input.sk-toggleable__control:checked~label.sk-toggleable__label {background-color: #d4ebff;}div.sk-label input.sk-toggleable__control:checked~label.sk-toggleable__label {background-color: #d4ebff;}input.sk-hidden--visually {border: 0;clip: rect(1px 1px 1px 1px);clip: rect(1px, 1px, 1px, 1px);height: 1px;margin: -1px;overflow: hidden;padding: 0;position: absolute;width: 1px;}div.sk-estimator {font-family: monospace;background-color: #f0f8ff;margin: 0.25em 0.25em;border: 1px dotted black;border-radius: 0.25em;box-sizing: border-box;}div.sk-estimator:hover {background-color: #d4ebff;}div.sk-parallel-item::after {content: \"\";width: 100%;border-bottom: 1px solid gray;flex-grow: 1;}div.sk-label:hover label.sk-toggleable__label {background-color: #d4ebff;}div.sk-serial::before {content: \"\";position: absolute;border-left: 1px solid gray;box-sizing: border-box;top: 2em;bottom: 0;left: 50%;}div.sk-serial {display: flex;flex-direction: column;align-items: center;background-color: white;}div.sk-item {z-index: 1;}div.sk-parallel {display: flex;align-items: stretch;justify-content: center;background-color: white;}div.sk-parallel-item {display: flex;flex-direction: column;position: relative;background-color: white;}div.sk-parallel-item:first-child::after {align-self: flex-end;width: 50%;}div.sk-parallel-item:last-child::after {align-self: flex-start;width: 50%;}div.sk-parallel-item:only-child::after {width: 0;}div.sk-dashed-wrapped {border: 1px dashed gray;margin: 0.2em;box-sizing: border-box;padding-bottom: 0.1em;background-color: white;position: relative;}div.sk-label label {font-family: monospace;font-weight: bold;background-color: white;display: inline-block;line-height: 1.2em;}div.sk-label-container {position: relative;z-index: 2;text-align: center;}div.sk-container {display: inline-block;position: relative;}</style><div class=\"sk-top-container\"><div class=\"sk-container\"><div class=\"sk-item sk-dashed-wrapped\"><div class=\"sk-label-container\"><div class=\"sk-label sk-toggleable\"><input class=\"sk-toggleable__control sk-hidden--visually\" id=\"6a4fa3c9-6a77-411c-b7fe-cb143027117f\" type=\"checkbox\" ><label class=\"sk-toggleable__label\" for=\"6a4fa3c9-6a77-411c-b7fe-cb143027117f\">Pipeline</label><div class=\"sk-toggleable__content\"><pre>Pipeline(steps=[('preprocessor',\n",
       "                 ColumnTransformer(transformers=[('ordinal_preprocessor',\n",
       "                                                  Pipeline(steps=[('encoder',\n",
       "                                                                   OneHotEncoder(handle_unknown='ignore'))]),\n",
       "                                                  ['Pclass', 'Embarked', 'Male',\n",
       "                                                   'Female', 'Cabin_bool']),\n",
       "                                                 ('numerical_preprocessor',\n",
       "                                                  Pipeline(steps=[('scaler',\n",
       "                                                                   StandardScaler())]),\n",
       "                                                  ['SibSp', 'Parch',\n",
       "                                                   'Fare'])])),\n",
       "                ('estimator',\n",
       "                 KNeighborsClassifier(n_neighbors=11, weights='distance'))])</pre></div></div></div><div class=\"sk-serial\"><div class=\"sk-item sk-dashed-wrapped\"><div class=\"sk-label-container\"><div class=\"sk-label sk-toggleable\"><input class=\"sk-toggleable__control sk-hidden--visually\" id=\"5adf9e04-5461-46b5-bdd5-d5a4ce4aaf68\" type=\"checkbox\" ><label class=\"sk-toggleable__label\" for=\"5adf9e04-5461-46b5-bdd5-d5a4ce4aaf68\">preprocessor: ColumnTransformer</label><div class=\"sk-toggleable__content\"><pre>ColumnTransformer(transformers=[('ordinal_preprocessor',\n",
       "                                 Pipeline(steps=[('encoder',\n",
       "                                                  OneHotEncoder(handle_unknown='ignore'))]),\n",
       "                                 ['Pclass', 'Embarked', 'Male', 'Female',\n",
       "                                  'Cabin_bool']),\n",
       "                                ('numerical_preprocessor',\n",
       "                                 Pipeline(steps=[('scaler', StandardScaler())]),\n",
       "                                 ['SibSp', 'Parch', 'Fare'])])</pre></div></div></div><div class=\"sk-parallel\"><div class=\"sk-parallel-item\"><div class=\"sk-item\"><div class=\"sk-label-container\"><div class=\"sk-label sk-toggleable\"><input class=\"sk-toggleable__control sk-hidden--visually\" id=\"95e6d4e5-454c-4134-a153-26b1a56eca8b\" type=\"checkbox\" ><label class=\"sk-toggleable__label\" for=\"95e6d4e5-454c-4134-a153-26b1a56eca8b\">ordinal_preprocessor</label><div class=\"sk-toggleable__content\"><pre>['Pclass', 'Embarked', 'Male', 'Female', 'Cabin_bool']</pre></div></div></div><div class=\"sk-serial\"><div class=\"sk-item\"><div class=\"sk-serial\"><div class=\"sk-item\"><div class=\"sk-estimator sk-toggleable\"><input class=\"sk-toggleable__control sk-hidden--visually\" id=\"e9619667-5539-4ea5-8c74-bc037c3a0b85\" type=\"checkbox\" ><label class=\"sk-toggleable__label\" for=\"e9619667-5539-4ea5-8c74-bc037c3a0b85\">OneHotEncoder</label><div class=\"sk-toggleable__content\"><pre>OneHotEncoder(handle_unknown='ignore')</pre></div></div></div></div></div></div></div></div><div class=\"sk-parallel-item\"><div class=\"sk-item\"><div class=\"sk-label-container\"><div class=\"sk-label sk-toggleable\"><input class=\"sk-toggleable__control sk-hidden--visually\" id=\"8f8f1c90-a67d-4557-a8ff-e902aefa1259\" type=\"checkbox\" ><label class=\"sk-toggleable__label\" for=\"8f8f1c90-a67d-4557-a8ff-e902aefa1259\">numerical_preprocessor</label><div class=\"sk-toggleable__content\"><pre>['SibSp', 'Parch', 'Fare']</pre></div></div></div><div class=\"sk-serial\"><div class=\"sk-item\"><div class=\"sk-serial\"><div class=\"sk-item\"><div class=\"sk-estimator sk-toggleable\"><input class=\"sk-toggleable__control sk-hidden--visually\" id=\"722cccd6-ae7c-49f3-bc31-9d9de6bea162\" type=\"checkbox\" ><label class=\"sk-toggleable__label\" for=\"722cccd6-ae7c-49f3-bc31-9d9de6bea162\">StandardScaler</label><div class=\"sk-toggleable__content\"><pre>StandardScaler()</pre></div></div></div></div></div></div></div></div></div></div><div class=\"sk-item\"><div class=\"sk-estimator sk-toggleable\"><input class=\"sk-toggleable__control sk-hidden--visually\" id=\"506f41a6-f228-4e99-ac3a-fbdf28e65cc3\" type=\"checkbox\" ><label class=\"sk-toggleable__label\" for=\"506f41a6-f228-4e99-ac3a-fbdf28e65cc3\">KNeighborsClassifier</label><div class=\"sk-toggleable__content\"><pre>KNeighborsClassifier(n_neighbors=11, weights='distance')</pre></div></div></div></div></div></div></div>"
      ],
      "text/plain": [
       "Pipeline(steps=[('preprocessor',\n",
       "                 ColumnTransformer(transformers=[('ordinal_preprocessor',\n",
       "                                                  Pipeline(steps=[('encoder',\n",
       "                                                                   OneHotEncoder(handle_unknown='ignore'))]),\n",
       "                                                  ['Pclass', 'Embarked', 'Male',\n",
       "                                                   'Female', 'Cabin_bool']),\n",
       "                                                 ('numerical_preprocessor',\n",
       "                                                  Pipeline(steps=[('scaler',\n",
       "                                                                   StandardScaler())]),\n",
       "                                                  ['SibSp', 'Parch',\n",
       "                                                   'Fare'])])),\n",
       "                ('estimator',\n",
       "                 KNeighborsClassifier(n_neighbors=11, weights='distance'))])"
      ]
     },
     "execution_count": 221,
     "metadata": {},
     "output_type": "execute_result"
    }
   ],
   "source": [
    "knn_model.fit(X_train, y_train)"
   ]
  },
  {
   "cell_type": "code",
   "execution_count": 222,
   "metadata": {},
   "outputs": [
    {
     "name": "stdout",
     "output_type": "stream",
     "text": [
      "CV on X_train:  0.7882322580645162\n"
     ]
    }
   ],
   "source": [
    "knn_train_cv = cross_val_score(knn_model, X_train, y_train,\n",
    "                      scoring='accuracy', cv=5).mean()\n",
    "\n",
    "print(\"CV on X_train: \", knn_train_cv)"
   ]
  },
  {
   "cell_type": "code",
   "execution_count": 223,
   "metadata": {},
   "outputs": [
    {
     "name": "stdout",
     "output_type": "stream",
     "text": [
      "CV on X_test:  0.780083857442348\n"
     ]
    }
   ],
   "source": [
    "knn_test_cv = cross_val_score(knn_model, X_test, y_test,\n",
    "                      scoring='accuracy', cv=5).mean()\n",
    "\n",
    "print(\"CV on X_test: \", knn_test_cv)"
   ]
  },
  {
   "cell_type": "code",
   "execution_count": 224,
   "metadata": {},
   "outputs": [],
   "source": [
    "knn_model.fit(X, y)\n",
    "\n",
    "kaggle_knn_pred =  knn_model.predict(test[features])"
   ]
  },
  {
   "cell_type": "code",
   "execution_count": 225,
   "metadata": {
    "scrolled": true
   },
   "outputs": [
    {
     "name": "stdout",
     "output_type": "stream",
     "text": [
      "COMMENT FOR KAGGLE\n",
      "============\n",
      "KNeighborsClassifier(n_neighbors=11, weights='distance')\n",
      "['Pclass', 'Embarked', 'Male', 'Female', 'Cabin_bool', 'SibSp', 'Parch', 'Fare']\n",
      "CV on X_train:  0.7882322580645162\n",
      "CV on X_test:  0.780083857442348\n"
     ]
    }
   ],
   "source": [
    "# Время новой боли... или нет?\n",
    "create_csv(knn_model[\"estimator\"], \n",
    "           kaggle_knn_pred, \n",
    "           \"KNN_11_MAXTUNE\",\n",
    "          cv_train = knn_train_cv, \n",
    "          cv_test = knn_test_cv)"
   ]
  },
  {
   "attachments": {},
   "cell_type": "markdown",
   "metadata": {},
   "source": [
    "Я ожидал чего-то такого, но такого я не ожидал.\n",
    "![title](https://sun9-10.userapi.com/impf/G9BY8X9V8G1EzmulrTDiWEpe1xpelgPcMrQUyw/PJowjoh76cI.jpg?size=973x226&quality=96&sign=5fc82eec51b7f40129a6858750e2fbcb&type=album)"
   ]
  },
  {
   "cell_type": "markdown",
   "metadata": {},
   "source": [
    "Load the test set and make the predictions. Submit them to kaggle and see the results :)\n",
    "Select the best model, load the test set and make the predictions. Submit them to kaggle.\n",
    "\n",
    "**Note**. X points will depend on your kaggle leaderboard score.\n",
    "$$ f(score) = 0.5, \\ \\ 0.76 \\leq score < 0.78,$$\n",
    "$$ f(score) = 1.0, \\ \\ 0.78 \\leq score < 0.81,$$ \n",
    "$$ f(score) = 2.5, \\ \\ 0.81 \\leq score $$ \n",
    "Your code should generate the output submitted to kaggle. Fix random seeds to make the results reproducible."
   ]
  },
  {
   "attachments": {},
   "cell_type": "markdown",
   "metadata": {},
   "source": [
    "![title](https://sun9-64.userapi.com/impf/aBKx2rRHXcQjzwdsPTWr8CVdInOUbRfL5Gm7AQ/JKUs-KtwVUA.jpg?size=977x138&quality=96&sign=729af66d1f793d9a8a7ba0acb94eadd5&type=album)\n",
    "\n",
    "_По итогу лучший счёт на kaggle, выбитый практически сразу и недостижимый в последующем оказался 0.77511. \n",
    "Итого 0.5 + 0.5 = 1 бал._\n",
    "\n",
    "Текущую позицию в leaderboard kaggle можно узнать по ссылке https://www.kaggle.com/jacknightsky/competitions?sortBy=best&group=entered&page=1&pageSize=20"
   ]
  },
  {
   "cell_type": "markdown",
   "metadata": {},
   "source": [
    "Данные для связи:\n",
    "- discord: @JackNightsky#1811\n",
    "- github: JackNightsky"
   ]
  },
  {
   "cell_type": "code",
   "execution_count": null,
   "metadata": {},
   "outputs": [],
   "source": []
  }
 ],
 "metadata": {
  "kernelspec": {
   "display_name": "Python 3",
   "language": "python",
   "name": "python3"
  },
  "language_info": {
   "codemirror_mode": {
    "name": "ipython",
    "version": 3
   },
   "file_extension": ".py",
   "mimetype": "text/x-python",
   "name": "python",
   "nbconvert_exporter": "python",
   "pygments_lexer": "ipython3",
   "version": "3.8.5"
  }
 },
 "nbformat": 4,
 "nbformat_minor": 4
}
